{
 "cells": [
  {
   "cell_type": "code",
   "execution_count": 1,
   "metadata": {},
   "outputs": [],
   "source": [
    "import swiss_cheese as sc\n",
    "import numpy as np\n",
    "import os\n",
    "\n",
    "geometry = \"cubic\"\n",
    "\n",
    "N_holes = [0, 5, 10]\n",
    "Ts = [20] \n",
    "sizes = np.arange(30, 110, 10)\n",
    "R_holes = [0.001, 0.002]"
   ]
  },
  {
   "cell_type": "code",
   "execution_count": null,
   "metadata": {},
   "outputs": [],
   "source": [
    "for r in R_holes:\n",
    "    sc.create_all_directories(geometry, N_holes, Ts, sizes, r)"
   ]
  },
  {
   "cell_type": "code",
   "execution_count": null,
   "metadata": {},
   "outputs": [],
   "source": [
    "for r in R_holes:\n",
    "    sc.create_swiss_cheese_meshes(geometry, N_holes, Ts, sizes, r)"
   ]
  },
  {
   "cell_type": "code",
   "execution_count": null,
   "metadata": {},
   "outputs": [],
   "source": [
    "for r in R_holes:\n",
    "    sc.create_cubit_python_script(geometry, N_holes, Ts, r)"
   ]
  },
  {
   "cell_type": "code",
   "execution_count": null,
   "metadata": {},
   "outputs": [],
   "source": [
    "for r in R_holes:\n",
    "    sc.execute_cubit_python_script(geometry, N_holes, Ts, r)"
   ]
  },
  {
   "cell_type": "code",
   "execution_count": 2,
   "metadata": {},
   "outputs": [],
   "source": [
    "for r in R_holes:\n",
    "    sc.create_swiss_cheese_groundstates_script(geometry, N_holes, Ts, sizes, r, 10)"
   ]
  },
  {
   "cell_type": "code",
   "execution_count": null,
   "metadata": {},
   "outputs": [],
   "source": []
  }
 ],
 "metadata": {
  "kernelspec": {
   "display_name": "Python 3",
   "language": "python",
   "name": "python3"
  },
  "language_info": {
   "codemirror_mode": {
    "name": "ipython",
    "version": 3
   },
   "file_extension": ".py",
   "mimetype": "text/x-python",
   "name": "python",
   "nbconvert_exporter": "python",
   "pygments_lexer": "ipython3",
   "version": "3.8.5"
  }
 },
 "nbformat": 4,
 "nbformat_minor": 4
}
