{
 "cells": [
  {
   "cell_type": "code",
   "execution_count": 1,
   "metadata": {},
   "outputs": [],
   "source": [
    "import swiss_cheese as sc\n",
    "import numpy as np\n",
    "import os\n",
    "\n",
    "geometry = \"cubic_1\"\n",
    "\n",
    "N_holes = [0, 10, 20, 30, 40, 50]\n",
    "Ts = [20] \n",
    "sizes = np.arange(30, 180, 10)\n",
    "R_holes = [0.001, 0.002]\n",
    "p = sc.get_random_position()"
   ]
  },
  {
   "cell_type": "code",
   "execution_count": 2,
   "metadata": {},
   "outputs": [],
   "source": [
    "for r in R_holes:\n",
    "    sc.create_all_directories(geometry, N_holes, Ts, sizes, r)\n",
    "    sc.create_swiss_cheese_meshes(geometry, N_holes, Ts, sizes, r, p)\n",
    "    sc.create_cubit_python_script(geometry, N_holes, Ts, r)\n",
    "    #sc.execute_cubit_python_script(geometry, N_holes, Ts, r)\n",
    "    sc.create_swiss_cheese_groundstates_script(geometry, N_holes, Ts, sizes, r, 100)\n",
    "    sc.create_batch_script_groundstates(geometry, N_holes, Ts, sizes, r)\n",
    "    # Hysteresis loops\n",
    "    H =  np.array([[1],[1],[1]])\n",
    "    sc.create_hysteresis_scripts(geometry, N_holes, Ts, sizes, r, H)  \n",
    "\n",
    "    # phi = 45, theta = 90\n",
    "    Hs = sc.field_components(np.radians(90), np.radians(45))\n",
    "    H1 =  np.array([[Hs[0]],[Hs[1]],[Hs[2]]]) \n",
    "    sc.create_hysteresis_scripts(geometry, N_holes, Ts, sizes, r, H1)\n",
    "\n",
    "    # phi = 45, theta = 60\n",
    "    Hs = sc.field_components(np.radians(60), np.radians(45))\n",
    "    H1 =  np.array([[Hs[0]],[Hs[1]],[Hs[2]]]) \n",
    "    sc.create_hysteresis_scripts(geometry, N_holes, Ts, sizes, r, H1)\n",
    "\n",
    "    # phi = 45, theta = 30\n",
    "    Hs = sc.field_components(np.radians(30), np.radians(45))\n",
    "    H1 =  np.array([[Hs[0]],[Hs[1]],[Hs[2]]]) \n",
    "    sc.create_hysteresis_scripts(geometry, N_holes, Ts, sizes, r, H1)\n",
    "\n",
    "    # phi = 45, theta = 0\n",
    "    Hs = sc.field_components(np.radians(0), np.radians(45))\n",
    "    H1 =  np.array([[Hs[0]],[Hs[1]],[Hs[2]]]) \n",
    "    sc.create_hysteresis_scripts(geometry, N_holes, Ts, sizes, r, H1)\n",
    "\n",
    "    # phi = 45, theta = -30\n",
    "    Hs = sc.field_components(np.radians(-30), np.radians(45))\n",
    "    H1 =  np.array([[Hs[0]],[Hs[1]],[Hs[2]]]) \n",
    "    sc.create_hysteresis_scripts(geometry, N_holes, Ts, sizes, r, H1)\n",
    "\n",
    "    # phi = 45, theta = -60\n",
    "    Hs = sc.field_components(np.radians(-60), np.radians(45))\n",
    "    H1 =  np.array([[Hs[0]],[Hs[1]],[Hs[2]]]) \n",
    "    sc.create_hysteresis_scripts(geometry, N_holes, Ts, sizes, r, H1)\n",
    "    \n",
    "    # phi = 45, theta = -90\n",
    "    Hs = sc.field_components(np.radians(-90), np.radians(45))\n",
    "    H1 =  np.array([[Hs[0]],[Hs[1]],[Hs[2]]]) \n",
    "    sc.create_hysteresis_scripts(geometry, N_holes, Ts, sizes, r, H1)\n",
    "    \n",
    "    H =  np.array([[1],[-1],[-1]])\n",
    "    sc.create_hysteresis_scripts(geometry, N_holes, Ts, sizes, r, H1) \n",
    "    \n",
    "    sc.create_batch_script_hysteresis(geometry, N_holes, Ts, sizes, r)\n",
    "    \n",
    "    sc.create_size_hysteresis_scripts_up(geometry, N_holes, Ts, sizes, r)\n",
    "    sc.create_batch_script_size_hysteresis_up(geometry, N_holes, Ts, sizes, r)\n",
    "    sc.create_size_hysteresis_scripts_down(geometry, N_holes, Ts, sizes, r)\n",
    "    sc.create_batch_script_size_hysteresis_down(geometry, N_holes, Ts, sizes, r)"
   ]
  },
  {
   "cell_type": "code",
   "execution_count": null,
   "metadata": {},
   "outputs": [],
   "source": [
    "for r in R_holes:\n",
    "    sc.create_swiss_cheese_meshes(geometry, N_holes, Ts, sizes, r)"
   ]
  },
  {
   "cell_type": "code",
   "execution_count": null,
   "metadata": {},
   "outputs": [],
   "source": [
    "for r in R_holes:\n",
    "    sc.create_cubit_python_script(geometry, N_holes, Ts, r)"
   ]
  },
  {
   "cell_type": "code",
   "execution_count": null,
   "metadata": {},
   "outputs": [],
   "source": [
    "for r in R_holes:\n",
    "    sc.execute_cubit_python_script(geometry, N_holes, Ts, r)"
   ]
  },
  {
   "cell_type": "code",
   "execution_count": null,
   "metadata": {},
   "outputs": [],
   "source": [
    "for r in R_holes:\n",
    "    sc.create_swiss_cheese_groundstates_script(geometry, N_holes, Ts, sizes, r, 10)"
   ]
  },
  {
   "cell_type": "code",
   "execution_count": 8,
   "metadata": {},
   "outputs": [],
   "source": [
    "for r in R_holes:\n",
    "    sc.create_batch_script_groundstates(geometry, N_holes, Ts, sizes, r)"
   ]
  },
  {
   "cell_type": "code",
   "execution_count": 6,
   "metadata": {},
   "outputs": [],
   "source": [
    "for r in R_holes:\n",
    "    H =  np.array([[1],[1],[1]])\n",
    "    sc.create_hysteresis_scripts(geometry, N_holes, Ts, sizes, r, H)  \n",
    "\n",
    "    # phi = 45, theta = 90\n",
    "    Hs = sc.field_components(np.radians(90), np.radians(45))\n",
    "    H1 =  np.array([[Hs[0]],[Hs[1]],[Hs[2]]]) \n",
    "    sc.create_hysteresis_scripts(geometry, N_holes, Ts, sizes, r, H1)\n",
    "\n",
    "    # phi = 45, theta = 60\n",
    "    Hs = sc.field_components(np.radians(60), np.radians(45))\n",
    "    H1 =  np.array([[Hs[0]],[Hs[1]],[Hs[2]]]) \n",
    "    sc.create_hysteresis_scripts(geometry, N_holes, Ts, sizes, r, H1)\n",
    "\n",
    "    # phi = 45, theta = 30\n",
    "    Hs = sc.field_components(np.radians(30), np.radians(45))\n",
    "    H1 =  np.array([[Hs[0]],[Hs[1]],[Hs[2]]]) \n",
    "    sc.create_hysteresis_scripts(geometry, N_holes, Ts, sizes, r, H1)\n",
    "\n",
    "    # phi = 45, theta = 0\n",
    "    Hs = sc.field_components(np.radians(0), np.radians(45))\n",
    "    H1 =  np.array([[Hs[0]],[Hs[1]],[Hs[2]]]) \n",
    "    sc.create_hysteresis_scripts(geometry, N_holes, Ts, sizes, r, H1)\n",
    "\n",
    "    # phi = 45, theta = -30\n",
    "    Hs = sc.field_components(np.radians(-30), np.radians(45))\n",
    "    H1 =  np.array([[Hs[0]],[Hs[1]],[Hs[2]]]) \n",
    "    sc.create_hysteresis_scripts(geometry, N_holes, Ts, sizes, r, H1)\n",
    "\n",
    "    # phi = 45, theta = -60\n",
    "    Hs = sc.field_components(np.radians(-60), np.radians(45))\n",
    "    H1 =  np.array([[Hs[0]],[Hs[1]],[Hs[2]]]) \n",
    "    sc.create_hysteresis_scripts(geometry, N_holes, Ts, sizes, r, H1)\n",
    "    \n",
    "    # phi = 45, theta = -90\n",
    "    Hs = sc.field_components(np.radians(-90), np.radians(45))\n",
    "    H1 =  np.array([[Hs[0]],[Hs[1]],[Hs[2]]]) \n",
    "    sc.create_hysteresis_scripts(geometry, N_holes, Ts, sizes, r, H1)\n",
    "    \n",
    "    H =  np.array([[1],[-1],[-1]])\n",
    "    sc.create_hysteresis_scripts(geometry, N_holes, Ts, sizes, r, H1) "
   ]
  },
  {
   "cell_type": "code",
   "execution_count": 7,
   "metadata": {},
   "outputs": [],
   "source": [
    "for r in R_holes:\n",
    "    sc.create_batch_script_hysteresis(geometry, N_holes, Ts, sizes, r)"
   ]
  },
  {
   "cell_type": "code",
   "execution_count": 2,
   "metadata": {},
   "outputs": [],
   "source": [
    "for r in R_holes:\n",
    "    sc.create_size_hysteresis_scripts_up(geometry, N_holes, Ts, sizes, r)\n",
    "    sc.create_batch_script_size_hysteresis_up(geometry, N_holes, Ts, sizes, r)\n",
    "    sc.create_size_hysteresis_scripts_down(geometry, N_holes, Ts, sizes, r)\n",
    "    sc.create_batch_script_size_hysteresis_down(geometry, N_holes, Ts, sizes, r)"
   ]
  },
  {
   "cell_type": "code",
   "execution_count": null,
   "metadata": {},
   "outputs": [],
   "source": []
  }
 ],
 "metadata": {
  "kernelspec": {
   "display_name": "Python 3 (ipykernel)",
   "language": "python",
   "name": "python3"
  },
  "language_info": {
   "codemirror_mode": {
    "name": "ipython",
    "version": 3
   },
   "file_extension": ".py",
   "mimetype": "text/x-python",
   "name": "python",
   "nbconvert_exporter": "python",
   "pygments_lexer": "ipython3",
   "version": "3.7.6"
  }
 },
 "nbformat": 4,
 "nbformat_minor": 4
}
